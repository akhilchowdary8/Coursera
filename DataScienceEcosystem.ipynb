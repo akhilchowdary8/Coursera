{
 "cells": [
  {
   "cell_type": "markdown",
   "id": "74da2601-dc69-4e89-a267-c413ee750550",
   "metadata": {},
   "source": [
    "Data Science Tools and Ecosystem"
   ]
  },
  {
   "cell_type": "markdown",
   "id": "eabbc480-98d9-48d3-a656-c1972dde0ff3",
   "metadata": {},
   "source": [
    "<h1>DataScienceToolsandEcosystem</h1>"
   ]
  },
  {
   "cell_type": "markdown",
   "id": "dee4a1e0-51e3-4ff6-8415-6e4c51104253",
   "metadata": {},
   "source": [
    "<h2>In this notebook, Data Science Tools and Ecosystem are summarized.</h2>"
   ]
  },
  {
   "cell_type": "markdown",
   "id": "8717e877-eaff-427f-9403-ea92d4b60bfb",
   "metadata": {},
   "source": [
    "<h4>Some of the popular languages that Data Scientists use are:</h4>\n",
    "<ol>\n",
    "  <li>Python</li>\n",
    "  <li>R</li>\n",
    "  <li>Julia</li>\n",
    "</ol>\n",
    "    "
   ]
  },
  {
   "cell_type": "markdown",
   "id": "a44ce11b-d394-4e4e-97c1-5585cf465cd7",
   "metadata": {},
   "source": [
    "<h4>Some of the commonly used libraries used by Data Scientists include:</h4>\n",
    "<ol>\n",
    "<li>NumPy</li>\n",
    "<li>Pandas</li>\n",
    "<li>Matplotlib</li>\n",
    "<li>Scikit-learn</li>\n",
    "<li>TensorFlow</li>\n",
    "<li>Keras</li>\n",
    "<li>PyTorch</li>\n",
    "<li>Seaborn</li>\n",
    "    </ol>"
   ]
  },
  {
   "cell_type": "markdown",
   "id": "17d0c66f-9b28-4c1f-998a-de53c0762c7b",
   "metadata": {},
   "source": [
    "<table><th>Data Science Tools</th>\n",
    "<tr><td>Jupyter</td></tr>\n",
    "<tr><td>Rstudio</td></tr>\n",
    "<tr><td>Spyder</td></tr></table>"
   ]
  },
  {
   "cell_type": "markdown",
   "id": "b9c1b155-3b93-4cc9-bc80-edb4a8ec654d",
   "metadata": {},
   "source": [
    "<h3>Below are a few examples of evaluating arithmetic expressions in Python</h3>"
   ]
  },
  {
   "cell_type": "code",
   "execution_count": 5,
   "id": "87d1b5c9-3050-4528-9825-509f93869942",
   "metadata": {},
   "outputs": [
    {
     "name": "stdout",
     "output_type": "stream",
     "text": [
      "17\n"
     ]
    }
   ],
   "source": [
    "#This a simple arithmetic expression to mutiply then add integers\n",
    "print((3*4)+5)"
   ]
  },
  {
   "cell_type": "code",
   "execution_count": 8,
   "id": "3a25ca80-a3d2-478c-8489-f7eab2ed61e6",
   "metadata": {},
   "outputs": [
    {
     "name": "stdout",
     "output_type": "stream",
     "text": [
      "3\n"
     ]
    }
   ],
   "source": [
    " #This will convert 200 minutes to hours by diving by 60\n",
    "print(200//60)"
   ]
  },
  {
   "cell_type": "markdown",
   "id": "95a9ddb3-3859-4008-97d1-4f5e4c079b80",
   "metadata": {},
   "source": [
    "<b>Objectives:</b>\n",
    "<ul>\n",
    "    <li>List popular languages for Data Science</li>\n",
    "    <li>List of the commonly used libraries used by Data Scientists</li>\n",
    "    <li>Examples for evaluating arithmetic expressions in Python</li>\n",
    "    <li>Introduction to python</li>\n",
    "    </ul>"
   ]
  },
  {
   "cell_type": "markdown",
   "id": "2513d436-d113-4370-b925-ee2c1741212c",
   "metadata": {},
   "source": [
    "<h2> Author</h2>\n",
    "Akhil"
   ]
  },
  {
   "cell_type": "code",
   "execution_count": null,
   "id": "36e7d017-933b-4cc5-8698-4da40949d1fc",
   "metadata": {},
   "outputs": [],
   "source": []
  }
 ],
 "metadata": {
  "kernelspec": {
   "display_name": "Python",
   "language": "python",
   "name": "conda-env-python-py"
  },
  "language_info": {
   "codemirror_mode": {
    "name": "ipython",
    "version": 3
   },
   "file_extension": ".py",
   "mimetype": "text/x-python",
   "name": "python",
   "nbconvert_exporter": "python",
   "pygments_lexer": "ipython3",
   "version": "3.7.12"
  }
 },
 "nbformat": 4,
 "nbformat_minor": 5
}
